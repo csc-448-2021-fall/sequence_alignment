{
 "cells": [
  {
   "cell_type": "markdown",
   "metadata": {},
   "source": [
    "# Sequence Alignment\n",
    "\n",
    "**Code below shouldn't be modified.**\n",
    "\n",
    "It implements a global sequence alignment algorithm."
   ]
  },
  {
   "cell_type": "code",
   "execution_count": 46,
   "metadata": {},
   "outputs": [],
   "source": [
    "import pandas as pd\n",
    "import numpy as np"
   ]
  },
  {
   "cell_type": "code",
   "execution_count": 47,
   "metadata": {},
   "outputs": [],
   "source": [
    "def read_fasta(file):\n",
    "    seqs = []\n",
    "    headers = []\n",
    "    # implement a read fasta file\n",
    "    # YOUR SOLUTION HERE\n",
    "    ## BEGIN SOLUTION\n",
    "    f = open(file)\n",
    "    header = None\n",
    "    sequence = []\n",
    "    for line in f:\n",
    "        line = line.strip()\n",
    "        if line[0] == \">\":\n",
    "            if header is not None:\n",
    "                headers.append(header)\n",
    "                seq = \"\".join(sequence)\n",
    "                seqs.append(seq.strip())\n",
    "                sequence = []\n",
    "            header = line\n",
    "        else:\n",
    "            sequence.append(line.strip())\n",
    "    if header is not None:\n",
    "        headers.append(header)\n",
    "        seq = \"\".join(sequence)\n",
    "        seqs.append(seq.strip())\n",
    "        sequence = []\n",
    "    ## END SOLUTION    \n",
    "    return headers,seqs"
   ]
  },
  {
   "cell_type": "code",
   "execution_count": 48,
   "metadata": {},
   "outputs": [],
   "source": [
    "def align_dynamic2(s1,s2,match_score=1,mismatch_score=0,gap_score=0,verbose=False):\n",
    "    scores = pd.DataFrame(index=[\"-\"]+[s1[:i+1] for i in range(len(s1))],columns=[\"-\"]+[s2[:i+1] for i in range(len(s2))])\n",
    "    aligned = pd.DataFrame(index=[\"-\"]+[s1[:i+1] for i in range(len(s1))],columns=[\"-\"]+[s2[:i+1] for i in range(len(s2))])\n",
    "    for s2_part in scores.columns:\n",
    "        scores.loc[\"-\",s2_part] = 0\n",
    "        if s2_part == \"-\":\n",
    "            aligned.loc[\"-\",\"-\"] = (\"\",\"\")\n",
    "        else:\n",
    "            aligned.loc[\"-\",s2_part] = (\"\".join([\"-\" for i in range(len(s2_part))]),s2_part)\n",
    "    for s1_part in scores.index:\n",
    "        scores.loc[s1_part,\"-\"] = 0\n",
    "        if s1_part == \"-\":\n",
    "            aligned.loc[\"-\",\"-\"] = (\"\",\"\")\n",
    "        else:\n",
    "            aligned.loc[s1_part,\"-\"] = (s1_part,\"\".join([\"-\" for i in range(len(s1_part))]))\n",
    "    if verbose:\n",
    "        display(aligned)\n",
    "    \n",
    "    nrows,ncols = scores.shape\n",
    "    for i in range(1,nrows):\n",
    "        for j in range(1,ncols):\n",
    "            # What are our three options\n",
    "            opt1_s1 = scores.index[i-1] # remember the rows are representative of s1\n",
    "            opt1_s2 = scores.columns[j-1] # remember the columns are representative of s2\n",
    "            score_opt1 = -np.Inf # FIX THIS!\n",
    "            s1_aligned_opt1 = \"\" # FIX THIS!\n",
    "            s2_aligned_opt1 = \"\" # FIX THIS!\n",
    "            ## BEGIN SOLUTION\n",
    "            if scores.index[i][-1]==scores.columns[j][-1]: \n",
    "                score = match_score\n",
    "            else:\n",
    "                score = mismatch_score\n",
    "            score_opt1 = scores.loc[opt1_s1,opt1_s2] + score\n",
    "            s1_aligned_opt1 = aligned.loc[opt1_s1,opt1_s2][0] + scores.index[i][-1]\n",
    "            s2_aligned_opt1 = aligned.loc[opt1_s1,opt1_s2][1] + scores.columns[j][-1]\n",
    "            ## END SOLUTION\n",
    "            \n",
    "            opt2_s1 = scores.index[i-1]\n",
    "            opt2_s2 = scores.columns[j]\n",
    "            score_opt2 = -np.Inf # FIT THIS!\n",
    "            s1_aligned_opt2 = \"\" # FIX THIS!\n",
    "            s2_aligned_opt2 = \"\" # FIX THIS!\n",
    "            ## BEGIN SOLUTION\n",
    "            score_opt2 = scores.loc[opt2_s1,opt2_s2]+gap_score\n",
    "            s1_aligned_opt2 = aligned.loc[opt2_s1,opt2_s2][0] + scores.index[i][-1]\n",
    "            s2_aligned_opt2 = aligned.loc[opt2_s1,opt2_s2][1] + \"-\"\n",
    "            ## END SOLUTION\n",
    "            \n",
    "            opt3_s1 = scores.index[i]\n",
    "            opt3_s2 = scores.columns[j-1]\n",
    "            score_opt3 = -np.Inf # FIT THIS!\n",
    "            s1_aligned_opt3 = \"\" # FIX THIS!\n",
    "            s2_aligned_opt3 = \"\" # FIX THIS!\n",
    "            ## BEGIN SOLUTION\n",
    "            score_opt3 = scores.loc[opt3_s1,opt3_s2]+gap_score\n",
    "            s1_aligned_opt3 = aligned.loc[opt3_s1,opt3_s2][0] + \"-\"\n",
    "            s2_aligned_opt3 = aligned.loc[opt3_s1,opt3_s2][1] + scores.columns[j][-1]\n",
    "            ## END SOLUTION\n",
    "            \n",
    "            scores.loc[scores.index[i],scores.columns[j]] = max(score_opt1,score_opt2,score_opt3)\n",
    "            if max(score_opt1,score_opt2,score_opt3) == score_opt1:\n",
    "                aligned.loc[scores.index[i],scores.columns[j]] = (s1_aligned_opt1,s2_aligned_opt1)\n",
    "            elif max(score_opt1,score_opt2,score_opt3) == score_opt2:\n",
    "                aligned.loc[scores.index[i],scores.columns[j]] = (s1_aligned_opt2,s2_aligned_opt2)\n",
    "            else:\n",
    "                aligned.loc[scores.index[i],scores.columns[j]] = (s1_aligned_opt3,s2_aligned_opt3)\n",
    "    if verbose:\n",
    "        display(scores)\n",
    "        display(aligned)\n",
    "    return scores.loc[s1,s2],aligned.loc[s1,s2][0],aligned.loc[s1,s2][1]"
   ]
  },
  {
   "cell_type": "code",
   "execution_count": 49,
   "metadata": {},
   "outputs": [],
   "source": [
    "def print_alignment(aligned_s1,aligned_s2,num_to_print=100):\n",
    "    num_to_print=100\n",
    "    for i in range(num_to_print):\n",
    "        print(aligned_s1[i],end=\"\")\n",
    "    print()\n",
    "    for i in range(num_to_print):\n",
    "        if aligned_s1[i] == aligned_s2[i]:\n",
    "            print(\"|\",end=\"\")\n",
    "        else:\n",
    "            print(\" \",end=\"\")\n",
    "    print()\n",
    "    for i in range(num_to_print):\n",
    "        print(aligned_s2[i],end=\"\")"
   ]
  },
  {
   "cell_type": "markdown",
   "metadata": {},
   "source": [
    "### Feel free to change the arguments/numbers below and rerun as many times as you would like"
   ]
  },
  {
   "cell_type": "code",
   "execution_count": 42,
   "metadata": {},
   "outputs": [
    {
     "name": "stdout",
     "output_type": "stream",
     "text": [
      "166\n"
     ]
    }
   ],
   "source": [
    "s1=\"CGCAACCACAGCGCGCAGGGCAGGCGCGAGCTGTCTGAGCCCCGGCCTCGGACCGCCCACTGGACTCCCGGCACGCCCGGTGCCGCCTTCCGGCTCCAGTCCCCCGGGCTCGGCCTCGGCGAGGTGTAATTCGCTTGCGCGGGCCGGCCCCGGAGGCTCTCGGCGAGCGCGGCGCGGTA\"\n",
    "s2=\"CGCAACGGCAGCGCGCAGGGCAGGCGCGAGCTGGCCTCTGAGCCCCGGCCTCGGACCGCCCACTCCACGCCCGGCAGGCCCGGTGCCGCCTTCCGGCTCCAGTCCCCCCGCTCGGCCTCGGCGAGGTGTAATTCGCAGGCGGGCCGGCTCCGGAGGCTCTCAACGGCGAGCGCGGTGCGGTA\"\n",
    "score_1,aligned_s1_1,aligned_s2_1 = align_dynamic2(s1,s2,match_score=1,mismatch_score=0,gap_score=0)\n",
    "print(score_1)"
   ]
  },
  {
   "cell_type": "code",
   "execution_count": 50,
   "metadata": {},
   "outputs": [
    {
     "name": "stdout",
     "output_type": "stream",
     "text": [
      "CGCAACCACAGCGCGCAGGGCAGGCGCGAGCT-G--TCTGAGCCCCGGCCTCGGACCGCCCACTGGACTCCCGGCACGCCCGGTGCCGCCTTCCGGCTCC\n",
      "||||||  |||||||||||||||||||||||| |  ||||||||||||||||||||||||||||  || ||||||| |||||||||||||||||||||||\n",
      "CGCAACGGCAGCGCGCAGGGCAGGCGCGAGCTGGCCTCTGAGCCCCGGCCTCGGACCGCCCACTCCACGCCCGGCAGGCCCGGTGCCGCCTTCCGGCTCC"
     ]
    }
   ],
   "source": [
    "print_alignment(aligned_s1_1,aligned_s2_1)"
   ]
  },
  {
   "cell_type": "code",
   "execution_count": 55,
   "metadata": {},
   "outputs": [
    {
     "name": "stdout",
     "output_type": "stream",
     "text": [
      "303\n"
     ]
    }
   ],
   "source": [
    "score_2,aligned_s1_2,aligned_s2_2 = align_dynamic2(s1,s2,match_score=2,mismatch_score=-3,gap_score=-1)\n",
    "print(score_2)"
   ]
  },
  {
   "cell_type": "code",
   "execution_count": 56,
   "metadata": {},
   "outputs": [
    {
     "name": "stdout",
     "output_type": "stream",
     "text": [
      "CGCAAC--CACAGCGCGCAGGGCAGGCGCGAGCT-G--TCTGAGCCCCGGCCTCGGACCGCCCACT--GGAC-TCCCGGCA-CGCCCGGTGCCGCCTTCC\n",
      "||||||    |||||||||||||||||||||||| |  ||||||||||||||||||||||||||||    ||  |||||||  |||||||||||||||||\n",
      "CGCAACGG--CAGCGCGCAGGGCAGGCGCGAGCTGGCCTCTGAGCCCCGGCCTCGGACCGCCCACTCC--ACG-CCCGGCAG-GCCCGGTGCCGCCTTCC"
     ]
    }
   ],
   "source": [
    "print_alignment(aligned_s1_2,aligned_s2_2)"
   ]
  },
  {
   "cell_type": "code",
   "execution_count": null,
   "metadata": {},
   "outputs": [],
   "source": []
  }
 ],
 "metadata": {
  "kernelspec": {
   "display_name": "Python 3",
   "language": "python",
   "name": "python3"
  },
  "language_info": {
   "codemirror_mode": {
    "name": "ipython",
    "version": 3
   },
   "file_extension": ".py",
   "mimetype": "text/x-python",
   "name": "python",
   "nbconvert_exporter": "python",
   "pygments_lexer": "ipython3",
   "version": "3.7.3"
  }
 },
 "nbformat": 4,
 "nbformat_minor": 4
}
